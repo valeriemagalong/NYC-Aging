{
 "cells": [
  {
   "cell_type": "markdown",
   "id": "eb2b5b39-932f-47a4-b392-a650ccd040f3",
   "metadata": {},
   "source": [
    "# Understanding the Raw Data\n",
    "---"
   ]
  },
  {
   "cell_type": "code",
   "execution_count": 11,
   "id": "a6c96f47-c995-4578-ad1d-7a269f319a61",
   "metadata": {},
   "outputs": [],
   "source": [
    "import pandas as pd"
   ]
  },
  {
   "cell_type": "markdown",
   "id": "f98a4994-52b7-49c0-8c40-7319eef05d85",
   "metadata": {},
   "source": [
    "## Importing all .csv files as dataframes"
   ]
  },
  {
   "cell_type": "code",
   "execution_count": 2,
   "id": "59a8da01-b204-4725-9a1c-803e7e15eb65",
   "metadata": {},
   "outputs": [],
   "source": [
    "acp = pd.read_csv('raw_csv/all_contracted_providers.csv')\n",
    "blb = pd.read_csv('raw_csv/bottom_line_budget.csv')\n",
    "bs = pd.read_csv('raw_csv/budgeted_services.csv')\n",
    "cpe = pd.read_csv('raw_csv/contracted_providers_expanded.csv')\n",
    "re = pd.read_csv('raw_csv/reported_expenditures.csv')\n",
    "rsu = pd.read_csv('raw_csv/reported_service_units.csv')\n",
    "sccd = pd.read_csv('raw_csv/senior_center_client_data_fy2020.csv')\n",
    "scpd = pd.read_csv('raw_csv/senior_center_provider_data_fy2020.csv')\n",
    "sadcs = pd.read_csv('raw_csv/social_adult_day_care_services.csv')"
   ]
  },
  {
   "cell_type": "markdown",
   "id": "407eeae5-105f-498d-8673-1a16c761af58",
   "metadata": {},
   "source": [
    "---"
   ]
  },
  {
   "cell_type": "markdown",
   "id": "790ec97c-8c0b-4cf1-ae2c-ded078b5750f",
   "metadata": {},
   "source": [
    "## Exploring Reported Expenditures\n",
    "`reported_expenditures.csv`"
   ]
  },
  {
   "cell_type": "code",
   "execution_count": 3,
   "id": "d93879d8-78c8-4611-8fcb-ed49d7c2e17c",
   "metadata": {},
   "outputs": [],
   "source": [
    "# re.info()"
   ]
  },
  {
   "cell_type": "code",
   "execution_count": 4,
   "id": "300d1ca0-daf7-4a83-b59b-43d8e84c33ab",
   "metadata": {},
   "outputs": [],
   "source": [
    "# # Get the unique values in each column, and count the number of rows for each unique value\n",
    "# for column in re.columns:\n",
    "#     print(f'{re.value_counts(column)}\\n')"
   ]
  },
  {
   "cell_type": "markdown",
   "id": "2405ab75-2c01-44f6-88cf-334d9d6fd556",
   "metadata": {},
   "source": [
    "#### What's in this dataset?\n",
    "* Data is from one contract year, fiscal year 2019 (July 2018 - June 2019)\n",
    "* 72,720 rows, 9 columns\n",
    "* Each row is an expenditure (i.e. reported line item) associated with a specific NYC Aging program for a given month\n",
    "* There are 403 different programs (`DFTA ID`), sponsored by 128 partner organizations\n",
    "    * These programs fall into 12 different contract types (i.e. types of services)\n",
    "        * Senior Centers, Naturally-Occurring Retirement Communities, Case Management Agencies, Home-Delivered Meal Programs, Caregiver Services, Transportation Services, Home-Care Services, Legal Services, Mental Health Services, New York Connects Services, City Meals Administrative Services, Elder Abuse Programs\n",
    "* Expenditures fall into 15 categories\n",
    "    * Catered Food/Disposables, Communications, Consultants, Equipment Rental, Other Expenses, Other Occupancy, Personnel, Printing/Supplies, Program Insurance, Raw Food/Disposables, Rent, Rent Usage Charges, Travel, Utilities, Vehicles  \n",
    "\n",
    "#### What are my grouping/categorical columns:\n",
    "* `ProviderType`, `LineItemName`, `ReportedMonth`\n",
    "\n",
    "#### What are my numerical columns:\n",
    "* `ReportedAmount`"
   ]
  },
  {
   "cell_type": "markdown",
   "id": "72f1e811-fa7f-406c-add7-19193e6738a1",
   "metadata": {},
   "source": [
    "## Exploring Senior Center Client Data\n",
    "`senior_center_client_data_fy2020.csv`"
   ]
  },
  {
   "cell_type": "code",
   "execution_count": 5,
   "id": "004597f9-4aae-4318-bf74-23aadc0712a7",
   "metadata": {},
   "outputs": [],
   "source": [
    "# sccd.info()"
   ]
  },
  {
   "cell_type": "code",
   "execution_count": 6,
   "id": "1d190d6c-2c51-4dec-a22c-d2ccbb1b3a7b",
   "metadata": {},
   "outputs": [],
   "source": [
    "# sccd.head()"
   ]
  },
  {
   "cell_type": "code",
   "execution_count": 7,
   "id": "3b1a89e0-9a7a-4ca8-b1bc-c1a242e2933d",
   "metadata": {},
   "outputs": [],
   "source": [
    "# # Get the unique values in each column, and count the number of rows for each unique value\n",
    "# for column in sccd.columns:\n",
    "#     print(f'{sccd.value_counts(column)}\\n')"
   ]
  },
  {
   "cell_type": "markdown",
   "id": "21198f50-99f3-4a91-b8b6-0ed681da10ce",
   "metadata": {},
   "source": [
    "#### What's in this dataset?\n",
    "* Data is from one contract year, fiscal year 2020 (July 2019 - June 2020)\n",
    "* 69,156 rows, 12 columns\n",
    "* Each row is a specific date of participation at a specific senior center\n",
    "* There are 287 programs/senior centers (`dftaid`)\n",
    "\n",
    "#### What are my grouping/categorical columns:\n",
    "* Needs to be derived --> Service Month\n",
    "\n",
    "#### What are my numerical columns:\n",
    "* `total_daily` (total clients service, i.e. instances of service, for service date)\n",
    "* `tot_serv_pp` (total clients, i.e. number of people, that received services for date)\n",
    "* `breakfasts_units` (total breakfast served for date)\n",
    "* `lunch_units` (total lunch served for date)\n",
    "* `dinner_units` (total dinner served for date)\n",
    "* `tot_meals` (total meals served for date)\n",
    "* `aib_tot` (total clients served for AIB service, i.e. Assistance, Information and Benefits, for date)\n",
    "* `sce_tot` (total clients served for SCE service, i.e. Education, Recreation, Technology, for date)\n",
    "* `hpp_tot` (total clients served for HPP service, i.e. Health Promotion (Evidence-Based and Non-Evidence-Based) for date)"
   ]
  },
  {
   "cell_type": "markdown",
   "id": "3145b7fd-1bd7-43f7-955f-3b9a8655420c",
   "metadata": {},
   "source": [
    "## Exploring Senior Center Provider Data\n",
    "`senior_center_provider_data_fy2020.csv`"
   ]
  },
  {
   "cell_type": "code",
   "execution_count": 8,
   "id": "3db8da03-03c4-4a65-be6a-16566827b937",
   "metadata": {},
   "outputs": [],
   "source": [
    "# scpd.shape"
   ]
  },
  {
   "cell_type": "code",
   "execution_count": 9,
   "id": "3813aa02-7d4a-400f-a4c3-cf204726765e",
   "metadata": {
    "tags": []
   },
   "outputs": [],
   "source": [
    "# scpd.columns"
   ]
  },
  {
   "cell_type": "code",
   "execution_count": 10,
   "id": "985d1e27-6483-4841-babe-7a230ed938e8",
   "metadata": {},
   "outputs": [],
   "source": [
    "# # Get the unique values in each column, and count the number of rows for each unique value\n",
    "# for column in scpd.columns:\n",
    "#     print(f'{scpd.value_counts(column)}\\n')"
   ]
  },
  {
   "cell_type": "markdown",
   "id": "b6308197-a83c-48dd-b7d9-2e5783afb9cd",
   "metadata": {},
   "source": [
    "#### What's in this dataset?\n",
    "* Data is from one contract year, fiscal year 2020 (July 2019 - June 2020)\n",
    "* 294 rows, 49 columns\n",
    "* Each row is a specific program/senior center (`DFTA ID`)\n",
    "\n",
    "#### What are my grouping/categorical columns:\n",
    "* To derive: Operational Hours (Weekdays vs. Full-Week), Part-Time Employee Status (Has PTE, Has No PTE), HHS Affiliation (HHS-Affiliated, No Reported Affiliation)\n",
    "* `Site Type` (program site type: Neighborhood Senior Centers, Innovative Senior Centers, Senior Center)\n",
    "* `Borough/City`\n",
    "* `Meal Prep1` (program prepares meal in-house: Meal Prep on-site, Catered, Both, Not Applicable)\n",
    "* `Prep for Others1` (contract prepares meals for other sites: No, Yes)\n",
    "\n",
    "#### What are my numerical columns:\n",
    "* To derive: % Budget for Personnel, % Budget for Meals, % Budget for AIB, SCE, & HPP Services\n",
    "* `FY 20 Budget` (contract annual budget amount)\n",
    "* `FY 20 Reimbursement` (total reported expenses for year)\n",
    "* `# of Full-time Staff`\n",
    "* `# of Part-time Staff`\n",
    "* `Months in HHS` (number of months provider gives services under HHS umbrella)\n",
    "* `Total FY20 Budget` (contract annual budget amount)\n",
    "* `Total FY20 Personnel Budget` (total personnel budget)\n",
    "* `Total FY20 Reimbursement` (total reported expenses for year)\n",
    "* `Average Daily Participants` (average number of daily client participants)\n",
    "* `Kosher Raw Food/ Disposable'` (kosher meal budget)\n",
    "* `Non-Kosher Raw Food/ Disposable` (non-kosher meal budget)\n",
    "* `Total Raw Food/ Disposable` (total meal budget)\n",
    "* `Expenditures per Meal for Food and Disposable` (average cost per meal per person)\n",
    "* `Annual Expenditures for Information and Assistance, Education and Recreation, Health Promotion` (total expenditures for aib, sce, & hpp services)\n",
    "* `Annual Expenditures Per Client for Information and Assistance, Education and Recreation, Health Promotion` (average cost per participant/client for services)\n",
    "* `Ultilization` (contractor utilization for year, i.e. how effectively resources and services have been used to meet the requirements of contract w/ NYC Dept. of Aging)"
   ]
  }
 ],
 "metadata": {
  "kernelspec": {
   "display_name": "Python 3 (ipykernel)",
   "language": "python",
   "name": "python3"
  },
  "language_info": {
   "codemirror_mode": {
    "name": "ipython",
    "version": 3
   },
   "file_extension": ".py",
   "mimetype": "text/x-python",
   "name": "python",
   "nbconvert_exporter": "python",
   "pygments_lexer": "ipython3",
   "version": "3.10.9"
  }
 },
 "nbformat": 4,
 "nbformat_minor": 5
}
