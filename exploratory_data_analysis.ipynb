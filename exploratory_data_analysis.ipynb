{
 "cells": [
  {
   "cell_type": "markdown",
   "id": "eb2b5b39-932f-47a4-b392-a650ccd040f3",
   "metadata": {},
   "source": [
    "# Exploratory Data Analysis\n",
    "---"
   ]
  },
  {
   "cell_type": "code",
   "execution_count": 17,
   "id": "a6c96f47-c995-4578-ad1d-7a269f319a61",
   "metadata": {},
   "outputs": [],
   "source": [
    "import pandas as pd\n",
    "import seaborn as sns"
   ]
  },
  {
   "cell_type": "markdown",
   "id": "f98a4994-52b7-49c0-8c40-7319eef05d85",
   "metadata": {},
   "source": [
    "## Importing all .csv files as dataframes"
   ]
  },
  {
   "cell_type": "code",
   "execution_count": 16,
   "id": "59a8da01-b204-4725-9a1c-803e7e15eb65",
   "metadata": {},
   "outputs": [],
   "source": [
    "acp = pd.read_csv('raw_csv/all_contracted_providers.csv')\n",
    "blb = pd.read_csv('raw_csv/bottom_line_budget.csv')\n",
    "bs = pd.read_csv('raw_csv/budgeted_services.csv')\n",
    "cpe = pd.read_csv('raw_csv/contracted_providers_expanded.csv')\n",
    "re = pd.read_csv('raw_csv/reported_expenditures.csv')\n",
    "rsu = pd.read_csv('raw_csv/reported_service_units.csv')\n",
    "sccd = pd.read_csv('raw_csv/senior_center_client_data_fy2020.csv')\n",
    "scpd = pd.read_csv('raw_csv/senior_center_provider_data_fy2020.csv')\n",
    "sadcs = pd.read_csv('raw_csv/social_adult_day_care_services.csv')"
   ]
  },
  {
   "cell_type": "markdown",
   "id": "407eeae5-105f-498d-8673-1a16c761af58",
   "metadata": {},
   "source": [
    "---"
   ]
  },
  {
   "cell_type": "markdown",
   "id": "790ec97c-8c0b-4cf1-ae2c-ded078b5750f",
   "metadata": {},
   "source": [
    "## Exploring Reported Expenditures\n",
    "`raw_csv/reported_expenditures.csv`"
   ]
  },
  {
   "cell_type": "code",
   "execution_count": 18,
   "id": "d93879d8-78c8-4611-8fcb-ed49d7c2e17c",
   "metadata": {},
   "outputs": [
    {
     "name": "stdout",
     "output_type": "stream",
     "text": [
      "<class 'pandas.core.frame.DataFrame'>\n",
      "RangeIndex: 72720 entries, 0 to 72719\n",
      "Data columns (total 9 columns):\n",
      " #   Column          Non-Null Count  Dtype  \n",
      "---  ------          --------------  -----  \n",
      " 0   ProviderType    72720 non-null  object \n",
      " 1   DFTA ID         72720 non-null  object \n",
      " 2   ContractYear    72720 non-null  int64  \n",
      " 3   SponsorName     72720 non-null  object \n",
      " 4   ProgramName     72720 non-null  object \n",
      " 5   LineItem        72720 non-null  int64  \n",
      " 6   LineItemName    72720 non-null  object \n",
      " 7   ReportedMonth   72720 non-null  object \n",
      " 8   ReportedAmount  72720 non-null  float64\n",
      "dtypes: float64(1), int64(2), object(6)\n",
      "memory usage: 5.0+ MB\n"
     ]
    }
   ],
   "source": [
    "re.info()"
   ]
  },
  {
   "cell_type": "code",
   "execution_count": 25,
   "id": "300d1ca0-daf7-4a83-b59b-43d8e84c33ab",
   "metadata": {},
   "outputs": [
    {
     "name": "stdout",
     "output_type": "stream",
     "text": [
      "ProviderType\n",
      "SENIOR CENTER CONTRACTS                              51120\n",
      "NATURALLY OCCURING RETIREMENT COMMUNITY CONTRACTS     6435\n",
      "CASE MANAGEMENT SERVICES CONTRACTS                    3975\n",
      "HOME DELIVERED MEAL SERVICE CONTRACTS                 3960\n",
      "CAREGIVER SERVICES CONTRACTS                          1815\n",
      "TRANSPORTATION SERVICES CONTRACTS                     1470\n",
      "HOMECARE SERVICES CONTRACTS                            900\n",
      "LEGAL SERVICES CONTRACTS                               900\n",
      "GERIATRIC MENTAL HEALTH SERVICES CONTRACTS             735\n",
      "NEW YORK CONNECTS CONTRACTS                            690\n",
      "CITY MEALS ADMINISTRATIVE SERVICES CONTRACTS           360\n",
      "ELDER ABUSE SERVICES CONTRACTS                         360\n",
      "dtype: int64\n",
      "\n",
      "DFTA ID\n",
      "45A01    270\n",
      "33V01    210\n",
      "31701    210\n",
      "34Y01    210\n",
      "54501    210\n",
      "        ... \n",
      "15G01     90\n",
      "64601     90\n",
      "N4402     45\n",
      "N3E02     15\n",
      "N3E03     15\n",
      "Length: 403, dtype: int64\n",
      "\n",
      "ContractYear\n",
      "2019    72720\n",
      "dtype: int64\n",
      "\n",
      "SponsorName\n",
      "JEWISH ASSOCIATION FOR SERVICES FOR THE AGED                   7500\n",
      "CATHOLIC CHARITIES NEIGHBORHOOD SERVICES INC                   3870\n",
      "REGIONAL AID FOR INTERIM NEEDS INC                             3090\n",
      "FORT GREENE COUNCIL                                            2535\n",
      "RISEBORO COMMUNITY PARTNERSHIP INC                             2325\n",
      "                                                               ... \n",
      "MOBILIZATION FOR JUSTICE INC                                    180\n",
      "MERRILL PARK CIVIC ASSOCIATION OF SPRINGFIELD GARDENS INC       180\n",
      "MEALS ON WHEELS OF STATEN ISLAND INC                            180\n",
      "LSNY-BRONX CORPORATION                                          180\n",
      "YOUNG MENS AND YOUNG WOMENS HEBREW ASSOCIATION OF BORO PARK     180\n",
      "Length: 128, dtype: int64\n",
      "\n",
      "ProgramName\n",
      "SAGE HARLEM                                540\n",
      "RAIN HOME DELIVERED MEALS                  360\n",
      "CCNS HOME DELIVERED MEALS                  360\n",
      "RIDGEWOOD BUSHWICK HOME DELIVERED MEALS    360\n",
      "JASA HOME DELIVERED MEALS                  360\n",
      "                                          ... \n",
      "YM andYWHA Innovative Senior Center         90\n",
      "YM&YWHA Innovative Senior Center            90\n",
      "NORC WITHOUT WALLS                          45\n",
      "ISABELLA GERIATRIC RIVER TERRACE NORC       15\n",
      "EL CORAZON NNORC                            15\n",
      "Length: 390, dtype: int64\n",
      "\n",
      "LineItem\n",
      "3     4848\n",
      "4     4848\n",
      "5     4848\n",
      "6     4848\n",
      "7     4848\n",
      "8     4848\n",
      "9     4848\n",
      "10    4848\n",
      "11    4848\n",
      "12    4848\n",
      "14    4848\n",
      "18    4848\n",
      "81    4848\n",
      "82    4848\n",
      "83    4848\n",
      "dtype: int64\n",
      "\n",
      "LineItemName\n",
      "Catered Food/Disposables    4848\n",
      "Communications              4848\n",
      "Consultants                 4848\n",
      "Equipment Rental            4848\n",
      "Other Expenses              4848\n",
      "Other Occupancy             4848\n",
      "Personnel                   4848\n",
      "Printing/Supplies           4848\n",
      "Program Insurance           4848\n",
      "Raw Food/Disposables        4848\n",
      "Rent                        4848\n",
      "Rent Usage Charges          4848\n",
      "Travel                      4848\n",
      "Utilities                   4848\n",
      "Vehicles                    4848\n",
      "dtype: int64\n",
      "\n",
      "ReportedMonth\n",
      "Jun 2019    8190\n",
      "Dec 2018    5895\n",
      "Mar 2019    5895\n",
      "Feb 2019    5880\n",
      "Jan 2019    5880\n",
      "Oct 2018    5880\n",
      "Sep 2018    5880\n",
      "Aug 2018    5865\n",
      "Nov 2018    5865\n",
      "Jul 2018    5850\n",
      "Apr 2019    5820\n",
      "May 2019    5820\n",
      "dtype: int64\n",
      "\n",
      "ReportedAmount\n",
      "0.00          37436\n",
      "150.00          104\n",
      "1500.00          72\n",
      "250.00           67\n",
      "845.96           67\n",
      "              ...  \n",
      "758.74            1\n",
      "758.54            1\n",
      "758.40            1\n",
      "758.35            1\n",
      "1067190.00        1\n",
      "Length: 26322, dtype: int64\n",
      "\n"
     ]
    }
   ],
   "source": [
    "# Get the unique values in each column, and count the number of rows for each unique value\n",
    "for column in re.columns:\n",
    "    print(f'{re.value_counts(column)}\\n')"
   ]
  },
  {
   "cell_type": "markdown",
   "id": "2405ab75-2c01-44f6-88cf-334d9d6fd556",
   "metadata": {},
   "source": [
    "#### What's in this dataset?\n",
    "* Data is from one contract year, fiscal year 2019 (July 2018 - June 2019)\n",
    "* 72,720 rows, 9 columns\n",
    "* Each row is an expenditure (i.e. reported line item) associated with a specific NYC Aging program for a given month\n",
    "* There are 403 different programs (DFTA ID), sponsored by 128 partner organizations\n",
    "    * These programs fall into 12 different contract types (i.e. types of services)\n",
    "        * Senior Centers, Naturally-Occurring Retirement Communities, Case Management Agencies, Home-Delivered Meal Programs, Caregiver Services, Transportation Services, Home-Care Services, Legal Services, Mental Health Services, New York Connects Services, City Meals Administrative Services, Elder Abuse Programs\n",
    "* Expenditures fall into 15 categories\n",
    "    * Catered Food/Disposables, Communications, Consultants, Equipment Rental, Other Expenses, Other Occupancy, Personnel, Printing/Supplies, Program Insurance, Raw Food/Disposables, Rent, Rent Usage Charges, Travel, Utilities, Vehicles  \n",
    "\n",
    "#### What are my grouping/categorical columns:\n",
    "* `ProviderType`, `LineItemName`, `ReportedMonth`\n",
    "\n",
    "#### What are my numerical columns:\n",
    "* `ReportedAmount`"
   ]
  }
 ],
 "metadata": {
  "kernelspec": {
   "display_name": "Python 3 (ipykernel)",
   "language": "python",
   "name": "python3"
  },
  "language_info": {
   "codemirror_mode": {
    "name": "ipython",
    "version": 3
   },
   "file_extension": ".py",
   "mimetype": "text/x-python",
   "name": "python",
   "nbconvert_exporter": "python",
   "pygments_lexer": "ipython3",
   "version": "3.10.9"
  }
 },
 "nbformat": 4,
 "nbformat_minor": 5
}
