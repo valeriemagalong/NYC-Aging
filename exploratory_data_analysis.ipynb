{
 "cells": [
  {
   "cell_type": "code",
   "execution_count": 1,
   "id": "c3ec7826-40ae-4507-9cd2-20ef687a5964",
   "metadata": {},
   "outputs": [],
   "source": [
    "from senior_center_provider_data import scpd"
   ]
  },
  {
   "cell_type": "code",
   "execution_count": 4,
   "id": "dc4221b9-cb39-4782-9106-504a35212760",
   "metadata": {},
   "outputs": [
    {
     "data": {
      "text/plain": [
       "Index(['DFTA ID', 'Senior Center Name', 'Site Type', 'Borough',\n",
       "       'Contract From Date', 'Contract To Date', 'Total FTEs', 'Total PTEs',\n",
       "       'Months in HHS', 'Total Budget', 'Total Personnel Budget',\n",
       "       'Total Expenses', 'Average Daily Clients', 'Kosher Meal Budget',\n",
       "       'Non-Kosher Meal Budget', 'Total Meal Budget',\n",
       "       'Average Meal Expenditure Per Client', 'Meal Prep Type',\n",
       "       'Meal Prep For Other Centers', 'Total AIB-SCE-HPP Expenditures',\n",
       "       'Average AIB-SCE-HPP Expenditures Per Client', 'Percent Utilization',\n",
       "       'Latitude', 'Longitude', 'Total Employees', 'PTE Status',\n",
       "       '% Budget Allocated for Personnel', '% Budget Allocated for Meals',\n",
       "       '% Budget Used for AIB, SCE, & HPP Services'],\n",
       "      dtype='object')"
      ]
     },
     "execution_count": 4,
     "metadata": {},
     "output_type": "execute_result"
    }
   ],
   "source": [
    "scpd.columns"
   ]
  }
 ],
 "metadata": {
  "kernelspec": {
   "display_name": "Python 3 (ipykernel)",
   "language": "python",
   "name": "python3"
  },
  "language_info": {
   "codemirror_mode": {
    "name": "ipython",
    "version": 3
   },
   "file_extension": ".py",
   "mimetype": "text/x-python",
   "name": "python",
   "nbconvert_exporter": "python",
   "pygments_lexer": "ipython3",
   "version": "3.10.9"
  }
 },
 "nbformat": 4,
 "nbformat_minor": 5
}
